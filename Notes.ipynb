{
 "cells": [
  {
   "cell_type": "markdown",
   "metadata": {},
   "source": [
    "## Major Machine learning techniques\n",
    "- Regression / Estimation\n",
    "   * Predicting coninuous values\n",
    "- Classification \n",
    "    * Predicting the item class/category of a case\n",
    "- Clustering\n",
    "    * Finding the structure of data; summarization\n",
    "- Associations\n",
    "    * Associating frequent co-occuring items/events\n",
    "- Anomaly detection\n",
    "    * Discovering abnormal and unusual cases\n",
    "- Sequence mining\n",
    "    * Predicting next events; click-stream (Markov Model, HMM)\n",
    "- Dimension redution\n",
    "    * Reducing the size of data (PCA)\n",
    "- Recommendation systems\n",
    "    * Recommending items\n",
    "\n",
    "\n",
    "    "
   ]
  },
  {
   "cell_type": "markdown",
   "metadata": {},
   "source": [
    "* Overfitting: capturing spurious patterns that won't recur in the future, leading to less accurate predictions, or\n",
    "* Underfitting: failing to capture relevant patterns, again leading to less accurate predictions.\n",
    "\n",
    "We use validation data, which isn't used in model training, to measure a candidate model's accuracy. This lets us try many candidate models and keep the best one."
   ]
  },
  {
   "cell_type": "markdown",
   "metadata": {},
   "source": [
    "\"Out of Sample Accuracy\" is the percentage of correct predictions that the model makes on data that the model has NOT been trained on.\n",
    "\n",
    "When should we use Multiple Linear Regression?\n",
    "- When we would like to identify the strength of the effect that the independent variables have on a dependent variable.\n",
    "- When we would like to predict impacts of changes in independent variables on a dependent variable."
   ]
  },
  {
   "cell_type": "markdown",
   "metadata": {},
   "source": [
    "    \n",
    "    Linear Regression\n",
    "A linear relationship is necessary between the independent variables and the dependent variable.\n",
    "\n",
    "* Simple Linear Regression\n",
    "is a statistical method that models the relationship between a dependent variable and one independent variable.\n",
    "* Multiple Linear Regression\n",
    " is a generalization of linear regression that models the relationship between a dependent variable and two or more independent variables. Multiple regression is more specific and complex than linear regression, and can capture more nuanced relationships that requires more consideration"
   ]
  }
 ],
 "metadata": {
  "language_info": {
   "name": "python"
  }
 },
 "nbformat": 4,
 "nbformat_minor": 2
}
